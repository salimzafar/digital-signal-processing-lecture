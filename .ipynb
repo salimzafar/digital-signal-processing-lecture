{
  "metadata": {
    "kernelspec": {
      "language": "python",
      "display_name": "Python 3",
      "name": "python3"
    },
    "language_info": {
      "pygments_lexer": "ipython3",
      "nbconvert_exporter": "python",
      "version": "3.6.4",
      "file_extension": ".py",
      "codemirror_mode": {
        "name": "ipython",
        "version": 3
      },
      "name": "python",
      "mimetype": "text/x-python"
    },
    "kaggle": {
      "accelerator": "none",
      "dataSources": [],
      "isInternetEnabled": false,
      "language": "python",
      "sourceType": "notebook",
      "isGpuEnabled": false
    },
    "colab": {
      "name": "notebookb5c2896eb3",
      "provenance": [],
      "include_colab_link": true
    }
  },
  "nbformat_minor": 0,
  "nbformat": 4,
  "cells": [
    {
      "cell_type": "markdown",
      "metadata": {
        "id": "view-in-github",
        "colab_type": "text"
      },
      "source": [
        "<a href=\"https://colab.research.google.com/github/salimzafar/digital-signal-processing-lecture/blob/master/.ipynb\" target=\"_parent\"><img src=\"https://colab.research.google.com/assets/colab-badge.svg\" alt=\"Open In Colab\"/></a>"
      ]
    },
    {
      "cell_type": "markdown",
      "source": [
        "# Signal Processing\n",
        "\n",
        "> - Signal Processing is the field of science which involves the manipulation of signal from time domain to frequency and vice versa, smoothing the signal, separating the noise from signal i.e filtering, extracting information from the signal.\n",
        "\n",
        "> - Signals exist in nature are continuous signal. Continuous-time (or analog) signals exist for the continuous interval (t1, t2) can range from $-\\infty$ to $+\\infty$\n",
        "\n",
        "# Basics of signal processing system\n",
        "\n",
        "> - Since computer needs digital signals for processing, therefore, in order to use an analog signal on a computer it must be digitized with an analog-to-digital converter. Thus, there is a need for an interface between the analog signal and the digital signal processor.\n",
        "\n",
        "![fig2-an-introduction-to-digital-signal-processing.jpg](attachment:9aeed073-37e3-4eee-821b-15d4c65c12ad.jpg)\n",
        "\n",
        "[Source](https://www.allaboutcircuits.com/technical-articles/an-introduction-to-digital-signal-processing/)\n",
        "\n",
        "# Analog to Digital Convertion of Signals\n",
        "\n",
        "![Analog-to- Digital Conversion_PCM.jpg](attachment:4ef314bf-82ff-430c-ab67-9112a7be2a70.jpg)\n",
        "\n",
        "[Source](http://www.myreadingroom.co.in/notes-and-studymaterial/68-dcn/732-analog-to-digital-conversion-techniques.html)\n",
        "\n",
        "- **Sampling**: sampling is the reduction of a continuous-time signal to a discrete-time signal. A common example is the conversion of a sound wave (a continuous signal) to a sequence of samples (a discrete-time signal)\n",
        "\n",
        "- **Quantization**: quantization is the process of mapping input values from large set (often continuous set) to output values in a (countable) smaller set, often with a finite number of elements. Rouding and Truncation are typical examples of quantization processes.\n",
        "\n",
        "- **Encoding**: After each sample is quantized and the number of bits per sample is decided, each sample can be changed to an nb-bit code word. The number of bits for each sample is determined from the number of quantization levels. If the number of quantization levels is `L`, the number of bits is `nb=log2.L`"
      ],
      "metadata": {
        "id": "if5EeIpz5l0C"
      }
    },
    {
      "cell_type": "code",
      "source": [
        "import numpy as np\n",
        "import matplotlib.pyplot as plt\n",
        "\n",
        "import scipy\n",
        "from scipy import signal"
      ],
      "metadata": {
        "execution": {
          "iopub.status.busy": "2023-02-15T11:31:39.227959Z",
          "iopub.execute_input": "2023-02-15T11:31:39.228398Z",
          "iopub.status.idle": "2023-02-15T11:31:39.234201Z",
          "shell.execute_reply.started": "2023-02-15T11:31:39.228364Z",
          "shell.execute_reply": "2023-02-15T11:31:39.232972Z"
        },
        "trusted": true,
        "id": "AsLM2guG5l0D"
      },
      "outputs": [],
      "execution_count": null
    },
    {
      "cell_type": "code",
      "source": [
        "t = np.arange(0, 11)\n",
        "x = (0.85) ** t"
      ],
      "metadata": {
        "execution": {
          "iopub.status.busy": "2023-02-15T11:31:39.238279Z",
          "iopub.execute_input": "2023-02-15T11:31:39.239114Z",
          "iopub.status.idle": "2023-02-15T11:31:39.245348Z",
          "shell.execute_reply.started": "2023-02-15T11:31:39.239046Z",
          "shell.execute_reply": "2023-02-15T11:31:39.244395Z"
        },
        "trusted": true,
        "id": "warW3R5H5l0E"
      },
      "outputs": [],
      "execution_count": null
    },
    {
      "cell_type": "markdown",
      "source": [
        "# Continuous Signal"
      ],
      "metadata": {
        "id": "-X2aTzPR5l0E"
      }
    },
    {
      "cell_type": "code",
      "source": [
        "plt.figure(figsize = (10,8)) # set the size of figure\n",
        "\n",
        "# 1. Plotting Analog Signal\n",
        "plt.subplot(2, 2, 1)\n",
        "plt.title('Analog Signal', fontsize=20)\n",
        "\n",
        "plt.plot(t, x, linewidth=3, label='x(t) = (0.85)^t')\n",
        "plt.xlabel('t' , fontsize=15)\n",
        "plt.ylabel('amplitude', fontsize=15)\n",
        "plt.legend(loc='upper right')\n",
        "\n",
        "# 2. Sampling and Plotting of Sampled signal\n",
        "plt.subplot(2, 2, 2)\n",
        "plt.title('Sampling', fontsize=20)\n",
        "plt.plot(t, x, linewidth=3, label='x(t) = (0.85)^t')\n",
        "n = t\n",
        "\n",
        "markerline, stemlines, baseline = plt.stem(n, x, label='x(n) = (0.85)^n')\n",
        "plt.setp(stemlines, 'linewidth', 3)\n",
        "plt.xlabel('n' , fontsize = 15)\n",
        "plt.ylabel('amplitude', fontsize = 15)\n",
        "plt.legend(loc='upper right')\n",
        "\n",
        "# 3. Quantization\n",
        "plt.subplot(2, 2, 3)\n",
        "plt.title('Quantization', fontsize = 20)\n",
        "\n",
        "plt.plot(t, x, linewidth =3)\n",
        "markerline, stemlines, baseline=plt.stem(n,x)\n",
        "plt.setp(stemlines, 'linewidth', 3)\n",
        "plt.xlabel('n', fontsize = 15)\n",
        "plt.ylabel('Range of Quantizer', fontsize=15)\n",
        "\n",
        "plt.axhline(y = 0.1, xmin = 0, xmax = 10, color = 'r', linewidth = 3.0)\n",
        "plt.axhline(y = 0.2, xmin = 0, xmax = 10, color = 'r', linewidth = 3.0)\n",
        "plt.axhline(y = 0.3, xmin = 0, xmax = 10, color = 'r', linewidth = 3.0)\n",
        "plt.axhline(y = 0.4, xmin = 0, xmax = 10, color = 'r', linewidth = 3.0)\n",
        "plt.axhline(y = 0.5, xmin = 0, xmax = 10, color = 'r', linewidth = 3.0)\n",
        "plt.axhline(y = 0.6, xmin = 0, xmax = 10, color = 'r', linewidth = 3.0)\n",
        "plt.axhline(y = 0.7, xmin = 0, xmax = 10, color = 'r', linewidth = 3.0)\n",
        "plt.axhline(y = 0.8, xmin = 0, xmax = 10, color = 'r', linewidth = 3.0)\n",
        "plt.axhline(y = 0.9, xmin = 0, xmax = 10, color = 'r', linewidth = 3.0)\n",
        "plt.axhline(y = 1.0, xmin = 0, xmax = 10, color = 'r', linewidth = 3.0)\n",
        "\n",
        "plt.subplot(2, 2, 4)\n",
        "plt.title('Quantized Signal', fontsize = 20)\n",
        "xq = np.around(x,1)\n",
        "markerline, stemlines, baseline = plt.stem(n,xq)\n",
        "plt.setp(stemlines, 'linewidth', 3)\n",
        "plt.xlabel('n', fontsize = 15)\n",
        "plt.ylabel('Range of Quantizer', fontsize=15)\n",
        "\n",
        "plt.axhline(y = 0.1, xmin = 0, xmax = 10, color = 'r', linewidth = 3.0)\n",
        "plt.axhline(y = 0.2, xmin = 0, xmax = 10, color = 'r', linewidth = 3.0)\n",
        "plt.axhline(y = 0.3, xmin = 0, xmax = 10, color = 'r', linewidth = 3.0)\n",
        "plt.axhline(y = 0.4, xmin = 0, xmax = 10, color = 'r', linewidth = 3.0)\n",
        "plt.axhline(y = 0.5, xmin = 0, xmax = 10, color = 'r', linewidth = 3.0)\n",
        "plt.axhline(y = 0.6, xmin = 0, xmax = 10, color = 'r', linewidth = 3.0)\n",
        "plt.axhline(y = 0.7, xmin = 0, xmax = 10, color = 'r', linewidth = 3.0)\n",
        "plt.axhline(y = 0.8, xmin = 0, xmax = 10, color = 'r', linewidth = 3.0)\n",
        "plt.axhline(y = 0.9, xmin = 0, xmax = 10, color = 'r', linewidth = 3.0)\n",
        "plt.axhline(y = 1.0, xmin = 0, xmax = 10, color = 'r', linewidth = 3.0)\n",
        "\n",
        "plt.tight_layout()"
      ],
      "metadata": {
        "execution": {
          "iopub.status.busy": "2023-02-15T11:31:39.269473Z",
          "iopub.execute_input": "2023-02-15T11:31:39.270292Z",
          "iopub.status.idle": "2023-02-15T11:31:40.276844Z",
          "shell.execute_reply.started": "2023-02-15T11:31:39.27025Z",
          "shell.execute_reply": "2023-02-15T11:31:40.275618Z"
        },
        "trusted": true,
        "id": "mc61VV1f5l0E"
      },
      "outputs": [],
      "execution_count": null
    },
    {
      "cell_type": "markdown",
      "source": [
        "# Unit Impulse Signal"
      ],
      "metadata": {
        "id": "BGhX0X-i5l0E"
      }
    },
    {
      "cell_type": "code",
      "source": [
        "impulse = signal.unit_impulse(10, 'mid')\n",
        "shifted_impulse = signal.unit_impulse(7, 2)\n",
        "\n",
        "# Sine wave\n",
        "t = np.linspace(0, 10, 100)\n",
        "amp = 5 # Amplitude\n",
        "f = 50\n",
        "x = amp * np.sin(2 * np.pi * f * t)\n",
        "\n",
        "# Exponential Signal\n",
        "x_ = amp * np.exp(-t)"
      ],
      "metadata": {
        "execution": {
          "iopub.status.busy": "2023-02-15T11:31:40.279522Z",
          "iopub.execute_input": "2023-02-15T11:31:40.280048Z",
          "iopub.status.idle": "2023-02-15T11:31:40.287416Z",
          "shell.execute_reply.started": "2023-02-15T11:31:40.279996Z",
          "shell.execute_reply": "2023-02-15T11:31:40.286035Z"
        },
        "trusted": true,
        "id": "P9H3BqTf5l0E"
      },
      "outputs": [],
      "execution_count": null
    },
    {
      "cell_type": "code",
      "source": [
        "plt.figure(figsize=(10, 8))\n",
        "\n",
        "plt.subplot(2, 2, 1)\n",
        "plt.plot(np.arange(-5, 5), impulse, linewidth=3, label='Unit impulse function')\n",
        "plt.ylim(-0.01,1)\n",
        "plt.xlabel('time.', fontsize=15)\n",
        "plt.ylabel('Amplitude', fontsize=15)\n",
        "plt.legend(fontsize=10, loc='upper right')\n",
        "\n",
        "plt.subplot(2, 2, 2)\n",
        "plt.plot(shifted_impulse, linewidth=3, label='Shifted Unit impulse function')\n",
        "\n",
        "plt.xlabel('time.', fontsize=15)\n",
        "plt.ylabel('Amplitude', fontsize=15)\n",
        "plt.legend(fontsize=10, loc='upper right')\n",
        "\n",
        "plt.subplot(2, 2, 3)\n",
        "plt.plot(t, x, linewidth=3, label='Sine wave')\n",
        "\n",
        "plt.xlabel('time.', fontsize=15)\n",
        "plt.ylabel('Amplitude', fontsize=15)\n",
        "plt.legend(fontsize=10, loc='upper right')\n",
        "\n",
        "plt.subplot(2, 2, 4)\n",
        "plt.plot(t, x_, linewidth=3, label='Exponential Signal')\n",
        "\n",
        "plt.xlabel('time.', fontsize=15)\n",
        "plt.ylabel('Amplitude', fontsize=15)\n",
        "plt.legend(fontsize=10, loc='upper right')\n",
        "\n",
        "plt.tight_layout()"
      ],
      "metadata": {
        "execution": {
          "iopub.status.busy": "2023-02-15T11:31:40.288539Z",
          "iopub.execute_input": "2023-02-15T11:31:40.288878Z",
          "iopub.status.idle": "2023-02-15T11:31:41.012583Z",
          "shell.execute_reply.started": "2023-02-15T11:31:40.288847Z",
          "shell.execute_reply": "2023-02-15T11:31:41.011348Z"
        },
        "trusted": true,
        "id": "5S1n5CAc5l0E"
      },
      "outputs": [],
      "execution_count": null
    },
    {
      "cell_type": "markdown",
      "source": [
        "# Sine wave"
      ],
      "metadata": {
        "id": "Pq6876lV5l0E"
      }
    },
    {
      "cell_type": "code",
      "source": [
        "# Sine wave\n",
        "n = np.linspace(0, 10, 100)\n",
        "amp = 5 # Amplitude\n",
        "f = 50\n",
        "x = amp * np.sin(2 * np.pi * f * n)\n",
        "\n",
        "# Exponential Signal\n",
        "x_ = amp * np.exp(-n)"
      ],
      "metadata": {
        "execution": {
          "iopub.status.busy": "2023-02-15T11:31:41.015366Z",
          "iopub.execute_input": "2023-02-15T11:31:41.015748Z",
          "iopub.status.idle": "2023-02-15T11:31:41.02249Z",
          "shell.execute_reply.started": "2023-02-15T11:31:41.015712Z",
          "shell.execute_reply": "2023-02-15T11:31:41.021159Z"
        },
        "trusted": true,
        "id": "zrR5SKs85l0E"
      },
      "outputs": [],
      "execution_count": null
    },
    {
      "cell_type": "markdown",
      "source": [
        "# Discrete Signals"
      ],
      "metadata": {
        "id": "HgBLN26d5l0F"
      }
    },
    {
      "cell_type": "code",
      "source": [
        "plt.figure(figsize=(12, 8))\n",
        "\n",
        "plt.subplot(2, 2, 1)\n",
        "plt.stem(n, x, 'yo', label='Sine wave')\n",
        "\n",
        "plt.xlabel('time.', fontsize=15)\n",
        "plt.ylabel('Amplitude', fontsize=15)\n",
        "plt.legend(fontsize=10, loc='upper right')\n",
        "\n",
        "plt.subplot(2, 2, 2)\n",
        "plt.stem(n, x_, 'yo', label='Exponential Signal')\n",
        "\n",
        "plt.xlabel('time.', fontsize=15)\n",
        "plt.ylabel('Amplitude', fontsize=15)\n",
        "plt.legend(fontsize=10, loc='upper right')"
      ],
      "metadata": {
        "execution": {
          "iopub.status.busy": "2023-02-15T11:31:41.02435Z",
          "iopub.execute_input": "2023-02-15T11:31:41.024926Z",
          "iopub.status.idle": "2023-02-15T11:31:41.403Z",
          "shell.execute_reply.started": "2023-02-15T11:31:41.024882Z",
          "shell.execute_reply": "2023-02-15T11:31:41.401926Z"
        },
        "trusted": true,
        "id": "36GMLrcz5l0F"
      },
      "outputs": [],
      "execution_count": null
    },
    {
      "cell_type": "markdown",
      "source": [
        "# Fourier Transforms\n",
        "\n",
        "The Fourier transform is a powerful tool for analyzing signals and is used in everything from audio processing to image processing to image compression.\n",
        "\n",
        "Fourier analysis is a field that studies how a mathematical function can be decomposed into a series of simpler trigonometric functions. The Fourier transform is a tool from this field for decomposing a function into its component frequencies. In other words, the Fourier transform is tool that allows you to take a signal and see the power of each frequency in it. Take a look at the important terms in that sentence:\n",
        "- A signal is information that changes over time. For example, audio, video, and voltage traces are all examples of signals.\n",
        "- A frequency is the speed at which something repeats. For example, clocks ticks at a frequency of one herts (Hz), or one repetition per second.\n",
        "- Power, in this case, just means the strength of each frequency.\n",
        "\n",
        "The following image is a visual demonstration of frequency and power on some sine waves:\n",
        "\n",
        "![freqpower2.png](attachment:b38398b9-58f3-4502-89e8-4029bd91358e.png)\n",
        "\n",
        "The peaks of the high-frequency sine wave are closer together than those of the low-frequency sine wave since they repeat more frequently. The low-power sine wave has smaller peaks than the other two sine waves.\n",
        "\n",
        "# Why Would You Need the Fourier Transform?\n",
        "\n",
        "The Fourier transform is useful in many applications. Image compression uses a variant of the Fourier tranform to remove the high-frequency components of images. Speech recognition uses the Fourier transform and related transforms to recover the spoken words from raw audio.\n",
        "\n",
        "In general, you need the Fourier transform if you need to look at the frequencies in a signal. If working with a signal in the time domain is difficult, then using the Fourier transform to move it into the frequency domain is worth trying."
      ],
      "metadata": {
        "id": "SihmPPRp5l0F"
      }
    },
    {
      "cell_type": "markdown",
      "source": [
        "# What is a Frequency Domain?\n",
        "\n",
        "The frequency domain refers to the analytic space in which mathematical functions or signals are conveyed in terms of frequency, rather than time. For example, where a time-domain graph may display changes over time, a frequency-domain graph displays how much of the signal is present among each given frequency band. It is possible, however, to convert the information from a time-domain to a frequency-domain. An example of such transformation is a Fourier transfrom. The Fourier transform converts the time function into a set of sine waves that represent different frequencies. The frequency-domain representation of a signal is known as the spectrum of frequency components.\n",
        "\n",
        "# How does the Frequency Domain work?\n",
        "The Frequency domain works by allowing a representation of the qualitative behavior of a system, as well as characteristics of the way the system response to changes in bandwidth, gain, phase shift, harmonics, ets. A displine in which the frequency domain is used for graphical representation is in music. Often audio producers and engineers display an audio signal within a frequency domain in order to better understand the shape and character of an audio signal.\n",
        "\n",
        "![rtaImage.gif](attachment:e710c566-eb61-4d30-8ccd-38482f973aa9.gif)\n",
        "\n",
        "[source](https://knowledge.ni.com/KnowledgeArticleDetails?id=kA03q000000YGJ7CAO&l=en-US)"
      ],
      "metadata": {
        "id": "YiY2-K315l0F"
      }
    },
    {
      "cell_type": "markdown",
      "source": [
        "# Signal Reconstruction\n",
        "\n",
        "In signal processing, reconstruction usually means the determination of an original continuous signal from a sequence of equally spaced samples.\n",
        "\n",
        "- `Shannon Nyquist Sampling Theorem`: A function containing no frequency higher than wHz, is completely determined by sampling at 2wHz\n",
        "\n",
        "# Nyquist sampling theorem\n",
        "\n",
        "The Nyquist sampling theorem states that \"The sampling frequency fs should be greater or equal than twice the maximum frequency of the signal (continuous time signal) to be sampled\".\n",
        "\n",
        "If Fmax is the maximum frequency of the signal then according to sampling theorem: fs >= 2Fmax\n",
        "\n",
        "Sampling theorem is very important if we want to reconstruct the signal after sampling."
      ],
      "metadata": {
        "id": "__pNeXTC5l0F"
      }
    },
    {
      "cell_type": "markdown",
      "source": [
        "# Sampling & Reconstruction"
      ],
      "metadata": {
        "id": "FiIRXLKh5l0F"
      }
    },
    {
      "cell_type": "code",
      "source": [
        "f = 20 # Hz\n",
        "t = np.linspace(0, 0.5, 200)\n",
        "x1 = np.sin(2 * np.pi * f * t)\n",
        "\n",
        "s_rate = 35 # Hz. Here the sampling frequency is less than the requirement of sampling theorem\n",
        "\n",
        "T = 1 / s_rate\n",
        "n = np.arange(0, 0.5 / T)\n",
        "nT = n * T\n",
        "x2 = np.sin(2 * np.pi * f * nT) # Since for sampling t = nT."
      ],
      "metadata": {
        "execution": {
          "iopub.status.busy": "2023-02-15T11:31:41.404626Z",
          "iopub.execute_input": "2023-02-15T11:31:41.404992Z",
          "iopub.status.idle": "2023-02-15T11:31:41.411799Z",
          "shell.execute_reply.started": "2023-02-15T11:31:41.404942Z",
          "shell.execute_reply": "2023-02-15T11:31:41.410624Z"
        },
        "trusted": true,
        "id": "DCnaRr4y5l0F"
      },
      "outputs": [],
      "execution_count": null
    },
    {
      "cell_type": "code",
      "source": [
        "print(len(t))\n",
        "print(len(nT))"
      ],
      "metadata": {
        "execution": {
          "iopub.status.busy": "2023-02-15T11:31:41.413312Z",
          "iopub.execute_input": "2023-02-15T11:31:41.413618Z",
          "iopub.status.idle": "2023-02-15T11:31:41.42092Z",
          "shell.execute_reply.started": "2023-02-15T11:31:41.413588Z",
          "shell.execute_reply": "2023-02-15T11:31:41.419994Z"
        },
        "trusted": true,
        "id": "TJfllEiV5l0F"
      },
      "outputs": [],
      "execution_count": null
    },
    {
      "cell_type": "code",
      "source": [
        "plt.figure(figsize=(10, 8))\n",
        "plt.suptitle(\"Sampling a Sine Wave of Fmax=20Hz with fs=35Hz\", fontsize=20)\n",
        "\n",
        "plt.subplot(2, 2, 1)\n",
        "plt.plot(t, x1, linewidth=3, label='SineWave of frequency 20 Hz')\n",
        "plt.xlabel('time.', fontsize=15)\n",
        "plt.ylabel('Amplitude', fontsize=15)\n",
        "plt.legend(fontsize=10, loc='upper right')\n",
        "\n",
        "plt.subplot(2, 2, 2)\n",
        "plt.plot(nT, x2, 'ro', label='Sample marks after resampling at fs=35Hz')\n",
        "plt.xlabel('time.', fontsize=15)\n",
        "plt.ylabel('Amplitude', fontsize=15)\n",
        "plt.legend(fontsize=10, loc='upper right')\n",
        "\n",
        "plt.subplot(2, 2, 3)\n",
        "plt.stem(nT, x2, 'm', label='Sample after resampling at fs=35Hz')\n",
        "plt.xlabel('time.', fontsize=15)\n",
        "plt.ylabel('Amplitude', fontsize=15)\n",
        "plt.legend(fontsize=10, loc='upper right')\n",
        "\n",
        "plt.subplot(2, 2, 4)\n",
        "plt.plot(nT, x2, 'g-', label='Reconstructed Sine Wave')\n",
        "plt.xlabel('time.', fontsize=15)\n",
        "plt.ylabel('Amplitude', fontsize=15)\n",
        "plt.legend(fontsize=10, loc='upper right')\n",
        "\n",
        "plt.tight_layout()"
      ],
      "metadata": {
        "execution": {
          "iopub.status.busy": "2023-02-15T11:31:41.422426Z",
          "iopub.execute_input": "2023-02-15T11:31:41.422818Z",
          "iopub.status.idle": "2023-02-15T11:31:42.23354Z",
          "shell.execute_reply.started": "2023-02-15T11:31:41.422749Z",
          "shell.execute_reply": "2023-02-15T11:31:42.232305Z"
        },
        "trusted": true,
        "id": "UhQLWmJB5l0F"
      },
      "outputs": [],
      "execution_count": null
    },
    {
      "cell_type": "markdown",
      "source": [
        "# Sampling Frequency greater than twice the maximum frequency (fs > 2fmax - `50Hz`)"
      ],
      "metadata": {
        "id": "-HjqhPHK5l0F"
      }
    },
    {
      "cell_type": "code",
      "source": [
        "f = 20 # Hz\n",
        "t = np.linspace(0, 0.5, 200)\n",
        "x1 = np.sin(2 * np.pi * f * t)\n",
        "\n",
        "s_rate = 50 # Hz. Here the sampling frequency is less than the requirement of sampling theorem\n",
        "\n",
        "T = 1 / s_rate\n",
        "n = np.arange(0, 0.5 / T)\n",
        "nT = n * T\n",
        "x2 = np.sin(2 * np.pi * f * nT) # Since for sampling t = nT."
      ],
      "metadata": {
        "execution": {
          "iopub.status.busy": "2023-02-15T11:31:42.235208Z",
          "iopub.execute_input": "2023-02-15T11:31:42.235855Z",
          "iopub.status.idle": "2023-02-15T11:31:42.243769Z",
          "shell.execute_reply.started": "2023-02-15T11:31:42.235804Z",
          "shell.execute_reply": "2023-02-15T11:31:42.242677Z"
        },
        "trusted": true,
        "id": "lrlsK4-55l0F"
      },
      "outputs": [],
      "execution_count": null
    },
    {
      "cell_type": "code",
      "source": [
        "plt.figure(figsize=(10, 8))\n",
        "plt.suptitle(\"Sampling a Sine Wave of Fmax=20Hz with fs=50Hz\", fontsize=20)\n",
        "\n",
        "plt.subplot(2, 2, 1)\n",
        "plt.plot(t, x1, linewidth=3, label='SineWave of frequency 20 Hz')\n",
        "plt.xlabel('time.', fontsize=15)\n",
        "plt.ylabel('Amplitude', fontsize=15)\n",
        "plt.legend(fontsize=10, loc='upper right')\n",
        "\n",
        "plt.subplot(2, 2, 2)\n",
        "plt.plot(nT, x2, 'ro', label='Sample marks after resampling at fs=50Hz')\n",
        "plt.xlabel('time.', fontsize=15)\n",
        "plt.ylabel('Amplitude', fontsize=15)\n",
        "plt.legend(fontsize=10, loc='upper right')\n",
        "\n",
        "plt.subplot(2, 2, 3)\n",
        "plt.stem(nT, x2, 'm', label='Sample after resampling at fs=50Hz')\n",
        "plt.xlabel('time.', fontsize=15)\n",
        "plt.ylabel('Amplitude', fontsize=15)\n",
        "plt.legend(fontsize=10, loc='upper right')\n",
        "\n",
        "plt.subplot(2, 2, 4)\n",
        "plt.plot(nT, x2, 'g-', label='Reconstructed Sine Wave')\n",
        "plt.xlabel('time.', fontsize=15)\n",
        "plt.ylabel('Amplitude', fontsize=15)\n",
        "plt.legend(fontsize=10, loc='upper right')\n",
        "\n",
        "plt.tight_layout()"
      ],
      "metadata": {
        "execution": {
          "iopub.status.busy": "2023-02-15T11:31:42.247767Z",
          "iopub.execute_input": "2023-02-15T11:31:42.248148Z",
          "iopub.status.idle": "2023-02-15T11:31:43.061506Z",
          "shell.execute_reply.started": "2023-02-15T11:31:42.248114Z",
          "shell.execute_reply": "2023-02-15T11:31:43.060184Z"
        },
        "trusted": true,
        "id": "aaIxADSw5l0F"
      },
      "outputs": [],
      "execution_count": null
    },
    {
      "cell_type": "markdown",
      "source": [
        "# Sampling Frequency greater than twice the maximum frequency (fs > 5fmax - `100Hz`)"
      ],
      "metadata": {
        "id": "H6B6Zusz5l0F"
      }
    },
    {
      "cell_type": "code",
      "source": [
        "f = 20 # Hz\n",
        "t = np.linspace(0, 0.5, 200)\n",
        "x1 = np.sin(2 * np.pi * f * t)\n",
        "\n",
        "s_rate = 100 # Hz. Here the sampling frequency is less than the requirement of sampling theorem\n",
        "\n",
        "T = 1 / s_rate\n",
        "n = np.arange(0, 0.5 / T)\n",
        "nT = n * T\n",
        "x2 = np.sin(2 * np.pi * f * nT) # Since for sampling t = nT."
      ],
      "metadata": {
        "execution": {
          "iopub.status.busy": "2023-02-15T11:31:43.063131Z",
          "iopub.execute_input": "2023-02-15T11:31:43.063593Z",
          "iopub.status.idle": "2023-02-15T11:31:43.072408Z",
          "shell.execute_reply.started": "2023-02-15T11:31:43.063552Z",
          "shell.execute_reply": "2023-02-15T11:31:43.070969Z"
        },
        "trusted": true,
        "id": "SzcWkr055l0F"
      },
      "outputs": [],
      "execution_count": null
    },
    {
      "cell_type": "code",
      "source": [
        "plt.figure(figsize=(10, 8))\n",
        "plt.suptitle(\"Sampling a Sine Wave of Fmax=20Hz with fs=100Hz\", fontsize=20)\n",
        "\n",
        "plt.subplot(2, 2, 1)\n",
        "plt.plot(t, x1, linewidth=3, label='SineWave of frequency 20 Hz')\n",
        "plt.xlabel('time.', fontsize=15)\n",
        "plt.ylabel('Amplitude', fontsize=15)\n",
        "plt.legend(fontsize=10, loc='upper right')\n",
        "\n",
        "plt.subplot(2, 2, 2)\n",
        "plt.plot(nT, x2, 'ro', label='Sample marks after resampling at fs=100Hz')\n",
        "plt.xlabel('time.', fontsize=15)\n",
        "plt.ylabel('Amplitude', fontsize=15)\n",
        "plt.legend(fontsize=10, loc='upper right')\n",
        "\n",
        "plt.subplot(2, 2, 3)\n",
        "plt.stem(nT, x2, 'm', label='Sample after resampling at fs=100Hz')\n",
        "plt.xlabel('time.', fontsize=15)\n",
        "plt.ylabel('Amplitude', fontsize=15)\n",
        "plt.legend(fontsize=10, loc='upper right')\n",
        "\n",
        "plt.subplot(2, 2, 4)\n",
        "plt.plot(nT, x2, 'g-', label='Reconstructed Sine Wave')\n",
        "plt.xlabel('time.', fontsize=15)\n",
        "plt.ylabel('Amplitude', fontsize=15)\n",
        "plt.legend(fontsize=10, loc='upper right')\n",
        "\n",
        "plt.tight_layout()"
      ],
      "metadata": {
        "execution": {
          "iopub.status.busy": "2023-02-15T11:31:43.074154Z",
          "iopub.execute_input": "2023-02-15T11:31:43.074651Z",
          "iopub.status.idle": "2023-02-15T11:31:43.898919Z",
          "shell.execute_reply.started": "2023-02-15T11:31:43.074575Z",
          "shell.execute_reply": "2023-02-15T11:31:43.896983Z"
        },
        "trusted": true,
        "id": "xOKO7xrg5l0F"
      },
      "outputs": [],
      "execution_count": null
    },
    {
      "cell_type": "markdown",
      "source": [
        "# Sampling and Reconstruction of sum of two sine waves"
      ],
      "metadata": {
        "id": "f7Nqcs3y5l0F"
      }
    },
    {
      "cell_type": "code",
      "source": [
        "t = np.linspace(0, 0.5, 200)\n",
        "x1 = 2 * np.sin(2 * np.pi * 10 * t) + np.sin(2 * np.pi * 20 * t)\n",
        "\n",
        "s_rate = 100 # Hz. Here the sampling frequency is less than the requirement of sampling theorem\n",
        "\n",
        "T = 1 / s_rate\n",
        "n = np.arange(0, 0.5 / T)\n",
        "nT = n * T\n",
        "x2 = 2 * np.sin(2 * np.pi * 10 * nT) + np.sin(2 * np.pi * 20 * nT) # Since for sampling t = nT."
      ],
      "metadata": {
        "execution": {
          "iopub.status.busy": "2023-02-15T11:31:43.900624Z",
          "iopub.execute_input": "2023-02-15T11:31:43.901365Z",
          "iopub.status.idle": "2023-02-15T11:31:43.910309Z",
          "shell.execute_reply.started": "2023-02-15T11:31:43.901321Z",
          "shell.execute_reply": "2023-02-15T11:31:43.909202Z"
        },
        "trusted": true,
        "id": "f0GaZETp5l0F"
      },
      "outputs": [],
      "execution_count": null
    },
    {
      "cell_type": "code",
      "source": [
        "plt.figure(figsize=(10, 8))\n",
        "plt.suptitle(\"Sampling a Two Sine Wave of Fmax=20Hz with fs=100Hz\", fontsize=20)\n",
        "\n",
        "plt.subplot(2, 2, 1)\n",
        "plt.plot(t, x1, linewidth=3, label='SineWave of frequency 20 Hz')\n",
        "plt.xlabel('time.', fontsize=15)\n",
        "plt.ylabel('Amplitude', fontsize=15)\n",
        "plt.legend(fontsize=10, loc='upper right')\n",
        "\n",
        "plt.subplot(2, 2, 2)\n",
        "plt.plot(nT, x2, 'ro', label='Sample marks after resampling at fs=100Hz')\n",
        "plt.xlabel('time.', fontsize=15)\n",
        "plt.ylabel('Amplitude', fontsize=15)\n",
        "plt.legend(fontsize=10, loc='upper right')\n",
        "\n",
        "plt.subplot(2, 2, 3)\n",
        "plt.stem(nT, x2, 'm', label='Sample after resampling at fs=100Hz')\n",
        "plt.xlabel('time.', fontsize=15)\n",
        "plt.ylabel('Amplitude', fontsize=15)\n",
        "plt.legend(fontsize=10, loc='upper right')\n",
        "\n",
        "plt.subplot(2, 2, 4)\n",
        "plt.plot(nT, x2, 'g-', label='Reconstructed Sine Wave')\n",
        "plt.xlabel('time.', fontsize=15)\n",
        "plt.ylabel('Amplitude', fontsize=15)\n",
        "plt.legend(fontsize=10, loc='upper right')\n",
        "\n",
        "plt.tight_layout()"
      ],
      "metadata": {
        "execution": {
          "iopub.status.busy": "2023-02-15T11:31:43.913424Z",
          "iopub.execute_input": "2023-02-15T11:31:43.913838Z",
          "iopub.status.idle": "2023-02-15T11:31:44.842067Z",
          "shell.execute_reply.started": "2023-02-15T11:31:43.913802Z",
          "shell.execute_reply": "2023-02-15T11:31:44.840904Z"
        },
        "trusted": true,
        "id": "LnU3pi3z5l0F"
      },
      "outputs": [],
      "execution_count": null
    },
    {
      "cell_type": "code",
      "source": [
        "# Define domain\n",
        "dx = 0.001\n",
        "L = np.pi\n",
        "x = L * np.arange(-1 + dx, 1 + dx, dx)\n",
        "n = len(x)\n",
        "nquart = int(np.floor(n / 4))"
      ],
      "metadata": {
        "execution": {
          "iopub.status.busy": "2023-02-15T11:31:44.843543Z",
          "iopub.execute_input": "2023-02-15T11:31:44.843918Z",
          "iopub.status.idle": "2023-02-15T11:31:44.85092Z",
          "shell.execute_reply.started": "2023-02-15T11:31:44.843884Z",
          "shell.execute_reply": "2023-02-15T11:31:44.849666Z"
        },
        "trusted": true,
        "id": "8P1o-5Cl5l0G"
      },
      "outputs": [],
      "execution_count": null
    },
    {
      "cell_type": "code",
      "source": [
        "# Define hat function\n",
        "f = np.zeros_like(x)\n",
        "f[nquart:2*nquart] = (4 / n) * np.arange(1, nquart + 1)\n",
        "f[2*nquart:3*nquart] = np.ones(nquart) - (4 / n) * np.arange(0, nquart)"
      ],
      "metadata": {
        "execution": {
          "iopub.status.busy": "2023-02-15T11:31:44.852433Z",
          "iopub.execute_input": "2023-02-15T11:31:44.852842Z",
          "iopub.status.idle": "2023-02-15T11:31:44.861304Z",
          "shell.execute_reply.started": "2023-02-15T11:31:44.852807Z",
          "shell.execute_reply": "2023-02-15T11:31:44.860065Z"
        },
        "trusted": true,
        "id": "TsBNZBCc5l0G"
      },
      "outputs": [],
      "execution_count": null
    },
    {
      "cell_type": "code",
      "source": [
        "fig, ax = plt.subplots()\n",
        "ax.plot(x, f, '-', color='k', linewidth=2)"
      ],
      "metadata": {
        "execution": {
          "iopub.status.busy": "2023-02-15T11:31:44.862754Z",
          "iopub.execute_input": "2023-02-15T11:31:44.863157Z",
          "iopub.status.idle": "2023-02-15T11:31:45.092292Z",
          "shell.execute_reply.started": "2023-02-15T11:31:44.863122Z",
          "shell.execute_reply": "2023-02-15T11:31:45.090876Z"
        },
        "trusted": true,
        "id": "Vtqt6jPs5l0G"
      },
      "outputs": [],
      "execution_count": null
    },
    {
      "cell_type": "code",
      "source": [
        "# # Define domain\n",
        "# dx = 0.001\n",
        "# L = np.pi\n",
        "# x = L * np.arange(-1 + dx, 1 + dx, dx)\n",
        "# n = len(x)\n",
        "# nquart = int(np.floor(n / 4))\n",
        "\n",
        "# # Define hat function\n",
        "# f = np.zeros_like(x)\n",
        "# f[nquart:2*nquart] = (4 / n) * np.arange(1, nquart + 1)\n",
        "# f[2*nquart:3*nquart] = np.ones(nquart) - (4 / n) * np.arange(0, nquart)\n",
        "\n",
        "# fig, ax = plt.subplots()\n",
        "# ax.plot(x, f, '-', color='k', linewidth=2)\n",
        "\n",
        "# # Compute Fourier Series\n",
        "\n",
        "# A0 = np.sum(f * np.ones_like(x)) * dx\n",
        "# fFS = A0 / 2\n",
        "\n",
        "# A = np.zeros(20)\n",
        "# B = np.zeros(20)\n",
        "# for k in range(20):\n",
        "#     A[k] = np.sum(f * np.cos(np.pi * (k + 1) * x/L)) * dx\n",
        "#     B[k] = np.sum(f * np.sin(np.pi * (k + 1) * x/L)) * dx\n",
        "#     fFs = fFS + A[k] * np.cos((k + 1) * np.pi * x / L) + B[k] * np.sin((k + 1) * np.pi * x / L)\n",
        "#     ax.plot(x, fFS, '-')"
      ],
      "metadata": {
        "execution": {
          "iopub.status.busy": "2023-02-15T11:31:45.094055Z",
          "iopub.execute_input": "2023-02-15T11:31:45.094935Z",
          "iopub.status.idle": "2023-02-15T11:31:45.100738Z",
          "shell.execute_reply.started": "2023-02-15T11:31:45.094864Z",
          "shell.execute_reply": "2023-02-15T11:31:45.099146Z"
        },
        "trusted": true,
        "id": "Y21oXvYt5l0G"
      },
      "outputs": [],
      "execution_count": null
    },
    {
      "cell_type": "markdown",
      "source": [
        "# Gibbs Phenomena"
      ],
      "metadata": {
        "id": "qQvi0wrB5l0G"
      }
    },
    {
      "cell_type": "code",
      "source": [
        "dx = 0.01\n",
        "L = 2 * np.pi\n",
        "x = np.arange(0, L + dx, dx)\n",
        "n = len(x)\n",
        "nquart = int(np.floor(n / 4))\n",
        "\n",
        "f = np.zeros_like(x)\n",
        "f[nquart:3 * nquart] = 1\n",
        "\n",
        "A0 = np.sum(f * np.ones_like(x)) * dx * 2 / L\n",
        "fFS = A0 / 2 * np.ones_like(f)\n",
        "\n",
        "for k in range(1, 101):\n",
        "    Ak = np.sum(f * np.cos(2 * np.pi * k * x / L)) * dx * 2 / L\n",
        "    Bk = np.sum(f * np.sin(2 * np.pi * k * x / L)) * dx * 2 / L\n",
        "    fFS = fFS + Ak * np.cos(2 * k * np.pi * x / L) + Bk * np.sin(2 * k * np.pi * x / L)\n",
        "\n",
        "plt.plot(x, f, color='k', linewidth=2)\n",
        "plt.plot(x, fFS, '-', color='r', linewidth=1.5)\n",
        "plt.title('Gibbs Phenomena')\n",
        "plt.show()"
      ],
      "metadata": {
        "execution": {
          "iopub.status.busy": "2023-02-15T11:31:45.102725Z",
          "iopub.execute_input": "2023-02-15T11:31:45.10328Z",
          "iopub.status.idle": "2023-02-15T11:31:45.334422Z",
          "shell.execute_reply.started": "2023-02-15T11:31:45.10323Z",
          "shell.execute_reply": "2023-02-15T11:31:45.333143Z"
        },
        "trusted": true,
        "id": "u_z45PtW5l0G"
      },
      "outputs": [],
      "execution_count": null
    },
    {
      "cell_type": "markdown",
      "source": [
        "# The Discrete Fourier Transform (DFT)\n",
        "\n",
        "The discrete Fourier transform (DFT) converts a finite sequence of equally-spaced samples of a function into a same-length sequence of equally-spaced samples of the discrete-time Fourier transform (DTFT), which is a complex-valued function of frequency. The interval at which the DTFT is sampled is the reciprocal of the duration of the input sequence."
      ],
      "metadata": {
        "id": "Nssv1zA05l0G"
      }
    },
    {
      "cell_type": "code",
      "source": [
        "# j, k = np.meshgrid(np.arange(n), np.arange(n))\n",
        "# dft = np.power(w, j * k)\n",
        "# dft = np.real(dft)\n",
        "\n",
        "# plt.imshow(dft)"
      ],
      "metadata": {
        "execution": {
          "iopub.status.busy": "2023-02-15T11:31:45.335696Z",
          "iopub.execute_input": "2023-02-15T11:31:45.336054Z",
          "iopub.status.idle": "2023-02-15T11:31:45.339758Z",
          "shell.execute_reply.started": "2023-02-15T11:31:45.336021Z",
          "shell.execute_reply": "2023-02-15T11:31:45.339009Z"
        },
        "trusted": true,
        "id": "D73Ry9tB5l0G"
      },
      "outputs": [],
      "execution_count": null
    },
    {
      "cell_type": "code",
      "source": [],
      "metadata": {
        "id": "u9PCWeXi5l0G"
      },
      "outputs": [],
      "execution_count": null
    },
    {
      "cell_type": "markdown",
      "source": [
        "# Denoising Data with FFT\n",
        "\n",
        "There are a lot of techniques to denoise a signal,   \n",
        "\n",
        "- Perform Fast Fourier Transform\n",
        "- Filter out the noise\n",
        "- Visualization the results\n",
        "- Real data denoising using power threshold\n",
        "- Obspy based filter\n",
        "\n",
        "The Fourier Serie for an arbitrary function of time $f(t)$ defined over the interval $((-T/2 < t < T/2 ))$ is:\n",
        "\n",
        "\n",
        "$$f(t) = a_0 + \\sum_{n=1}^{\\infty} a_n cos(\\frac{2n\\pi t}{T}) + \\sum_{n=1}^{\\infty} b_n sin(\\frac{2n\\pi t}{T})$$\n",
        "\n",
        "In the above equation, we can see that the $cos(\\frac{2n\\pi t}{T})$ and $sin(\\frac{2n\\pi t}{T})$ are periodic with period $\\frac{T}{n}$ or frequency $\\frac{n}{T}$. Here, the larger values of n correspond to shorter periods, or higher frequencies.\n",
        "\n",
        "In this part, we will use Fourier analysis to filter with the assumption that noise is overlapping the signals in the time domain but are not so overlapping in the frequency domain."
      ],
      "metadata": {
        "id": "DxhAlHmi5l0G"
      }
    },
    {
      "cell_type": "code",
      "source": [
        "plt.rcParams['figure.figsize'] = [10,6]"
      ],
      "metadata": {
        "execution": {
          "iopub.status.busy": "2023-02-15T11:31:45.340798Z",
          "iopub.execute_input": "2023-02-15T11:31:45.341731Z",
          "iopub.status.idle": "2023-02-15T11:31:45.353513Z",
          "shell.execute_reply.started": "2023-02-15T11:31:45.341693Z",
          "shell.execute_reply": "2023-02-15T11:31:45.352037Z"
        },
        "trusted": true,
        "id": "OA8V6hXR5l0G"
      },
      "outputs": [],
      "execution_count": null
    },
    {
      "cell_type": "code",
      "source": [
        "# Create synthetic signal\n",
        "dt = 0.001\n",
        "t = np.arange(0, 1, dt)\n",
        "signal = np.sin(2 * np.pi * 50 * t) + np.sin(2 * np.pi * 120 * t) # Sum of 2 Sequencies\n",
        "signal_clean = signal\n",
        "signal = signal + 2.5 * np.random.randn(len(t)) # Add some noise\n",
        "min_signal, max_signal = signal.min(), signal.max()"
      ],
      "metadata": {
        "execution": {
          "iopub.status.busy": "2023-02-15T11:31:45.355481Z",
          "iopub.execute_input": "2023-02-15T11:31:45.357968Z",
          "iopub.status.idle": "2023-02-15T11:31:45.365267Z",
          "shell.execute_reply.started": "2023-02-15T11:31:45.357923Z",
          "shell.execute_reply": "2023-02-15T11:31:45.364166Z"
        },
        "trusted": true,
        "id": "3eb5Ih575l0I"
      },
      "outputs": [],
      "execution_count": null
    },
    {
      "cell_type": "markdown",
      "source": [
        "We created our signal by summing two sine functions with different frequencies (50Hz and 120Hz). Then we created an array of random noise and stacked that noise onto the signal."
      ],
      "metadata": {
        "id": "MVBxHRx45l0I"
      }
    },
    {
      "cell_type": "code",
      "source": [
        "plt.plot(t, signal, color='c', linewidth=1.5, label='Noisy')\n",
        "plt.plot(t, signal_clean, color='k', linewidth=2, label='Clean')\n",
        "plt.xlim(t[0], t[-1])\n",
        "plt.xlabel('t axis')\n",
        "plt.ylabel('Vals')\n",
        "plt.legend()"
      ],
      "metadata": {
        "execution": {
          "iopub.status.busy": "2023-02-15T11:31:45.366622Z",
          "iopub.execute_input": "2023-02-15T11:31:45.36704Z",
          "iopub.status.idle": "2023-02-15T11:31:45.702438Z",
          "shell.execute_reply.started": "2023-02-15T11:31:45.367003Z",
          "shell.execute_reply": "2023-02-15T11:31:45.70125Z"
        },
        "trusted": true,
        "id": "47anzcqG5l0J"
      },
      "outputs": [],
      "execution_count": null
    },
    {
      "cell_type": "markdown",
      "source": [
        "# Perform Fast Fourier Transform"
      ],
      "metadata": {
        "id": "T911I1Vc5l0J"
      }
    },
    {
      "cell_type": "code",
      "source": [
        "# Compute the Fast Fourier Transform (FFT)\n",
        "\n",
        "n = len(t)\n",
        "fhat = np.fft.fft(signal, n)                 # Compute the FFT\n",
        "psd = fhat * np.conj(fhat) / n\n",
        "freq = (1 / (dt * n)) * np.arange(n)    # frequency array\n",
        "idxs_half = np.arange(1, np.floor(n / 2), dtype=np.int32)  # first half index"
      ],
      "metadata": {
        "execution": {
          "iopub.status.busy": "2023-02-15T11:31:45.7039Z",
          "iopub.execute_input": "2023-02-15T11:31:45.704265Z",
          "iopub.status.idle": "2023-02-15T11:31:45.711189Z",
          "shell.execute_reply.started": "2023-02-15T11:31:45.704231Z",
          "shell.execute_reply": "2023-02-15T11:31:45.709767Z"
        },
        "trusted": true,
        "id": "F3ndgO8f5l0J"
      },
      "outputs": [],
      "execution_count": null
    },
    {
      "cell_type": "markdown",
      "source": [
        "Numpy's `fft.fft` function returns the one-dimentional discrete Fourier Transform with the efficient Fast Fourier Transform (FFT) algorithm. The output of the function is complex and we multiplied it with its conjugate to obtain the power spectrum of the noisy signal. We created the array of frequencies using the sampling interval (`dt`) and the number of samples (`n`)."
      ],
      "metadata": {
        "id": "KkoXekzv5l0J"
      }
    },
    {
      "cell_type": "code",
      "source": [
        "fig, axs = plt.subplots(2, 1)\n",
        "\n",
        "plt.sca(axs[0])\n",
        "plt.plot(t, signal, color='c', linewidth=1.5, label='Noisy')\n",
        "plt.plot(t, signal_clean, color='k', linewidth=2, label='Clean')\n",
        "plt.xlim(t[0], t[-1])\n",
        "plt.xlabel('t axis')\n",
        "plt.ylabel('Vals')\n",
        "plt.legend()\n",
        "\n",
        "plt.sca(axs[1])\n",
        "plt.plot(freq[idxs_half], psd[idxs_half], color='c', linewidth=2, label='PSD Noisy')\n",
        "plt.xlim(freq[idxs_half[0]], freq[idxs_half[-1]])\n",
        "plt.xlabel('t axis')\n",
        "plt.ylabel('Vals')\n",
        "plt.legend()\n",
        "\n",
        "plt.tight_layout()"
      ],
      "metadata": {
        "execution": {
          "iopub.status.busy": "2023-02-15T11:31:45.71253Z",
          "iopub.execute_input": "2023-02-15T11:31:45.713109Z",
          "iopub.status.idle": "2023-02-15T11:31:46.183396Z",
          "shell.execute_reply.started": "2023-02-15T11:31:45.713073Z",
          "shell.execute_reply": "2023-02-15T11:31:46.182241Z"
        },
        "trusted": true,
        "id": "zx-bhzy95l0J"
      },
      "outputs": [],
      "execution_count": null
    },
    {
      "cell_type": "markdown",
      "source": [
        "# Filter out the noise\n",
        "\n",
        "In the above plot, we can see that the two frequencies from our original signal is standing out. Now, we can create a filter that can remove all frequencies with amplitude less than our threshold."
      ],
      "metadata": {
        "id": "bnmEVSbf5l0J"
      }
    },
    {
      "cell_type": "code",
      "source": [
        "threshold = 100\n",
        "psd_idxs = psd > threshold # array of 0 and 1\n",
        "psd_clean = psd * psd_idxs # zero out all the unnecessary powers\n",
        "fhat_clean = psd_idxs * fhat # used to retreive the signal\n",
        "\n",
        "signal_filtered = np.fft.ifft(fhat_clean) # inverse fourier transform"
      ],
      "metadata": {
        "execution": {
          "iopub.status.busy": "2023-02-15T11:31:46.184894Z",
          "iopub.execute_input": "2023-02-15T11:31:46.185477Z",
          "iopub.status.idle": "2023-02-15T11:31:46.190964Z",
          "shell.execute_reply.started": "2023-02-15T11:31:46.185441Z",
          "shell.execute_reply": "2023-02-15T11:31:46.190069Z"
        },
        "trusted": true,
        "id": "DpX_ZyT75l0J"
      },
      "outputs": [],
      "execution_count": null
    },
    {
      "cell_type": "code",
      "source": [
        "# plt.rcParams['figure.figsize'] = [8,10]\n",
        "fig, axs = plt.subplots(4, 1)\n",
        "\n",
        "plt.sca(axs[0])\n",
        "plt.plot(t, signal, color='b', linewidth=0.5, label='Noisy')\n",
        "plt.plot(t, signal_clean, color='r', linewidth=1, label='Clean')\n",
        "plt.ylim(min_signal, max_signal)\n",
        "plt.xlabel('t axis')\n",
        "plt.ylabel('Vals')\n",
        "plt.legend()\n",
        "\n",
        "plt.sca(axs[1])\n",
        "plt.plot(freq[idxs_half], np.abs(psd[idxs_half]), color='b', linewidth=0.5, label='PSD noisy')\n",
        "plt.xlabel('Frequencies in Hz')\n",
        "plt.ylabel('Amplitude')\n",
        "plt.legend()\n",
        "\n",
        "plt.sca(axs[2])\n",
        "plt.plot(freq[idxs_half], np.abs(psd_clean[idxs_half]), color='r', linewidth=1, label='PSD clean')\n",
        "plt.xlabel('Frequencies in Hz')\n",
        "plt.ylabel('Amplitude')\n",
        "plt.legend()\n",
        "\n",
        "plt.sca(axs[3])\n",
        "plt.plot(t, signal_filtered, color='r', linewidth=1, label='Clean Signal Retrieved')\n",
        "plt.xlim(t[0], t[-1])\n",
        "plt.ylim(min_signal, max_signal)\n",
        "plt.xlabel('t axis')\n",
        "plt.ylabel('Vals')\n",
        "plt.legend()\n",
        "\n",
        "plt.tight_layout()"
      ],
      "metadata": {
        "execution": {
          "iopub.status.busy": "2023-02-15T11:31:46.192031Z",
          "iopub.execute_input": "2023-02-15T11:31:46.192863Z",
          "iopub.status.idle": "2023-02-15T11:31:46.907734Z",
          "shell.execute_reply.started": "2023-02-15T11:31:46.192828Z",
          "shell.execute_reply": "2023-02-15T11:31:46.906587Z"
        },
        "trusted": true,
        "id": "SuQr1Hp_5l0J"
      },
      "outputs": [],
      "execution_count": null
    },
    {
      "cell_type": "markdown",
      "source": [
        "# Spectral Derivative"
      ],
      "metadata": {
        "id": "QCIgK2zW5l0J"
      }
    },
    {
      "cell_type": "code",
      "source": [
        "n = 64\n",
        "L = 30\n",
        "dx = L / n\n",
        "x = np.arange(-L/2, L/2, dx, dtype='complex_')\n",
        "f = np.cos(x) * np.exp(-np.power(x, 2) / 25) # Function\n",
        "df = -(np.sin(x) * np.exp(-np.power(x, 2) / 25) + (2 / 25) * x * f) # Derivative"
      ],
      "metadata": {
        "execution": {
          "iopub.status.busy": "2023-02-15T11:31:46.913389Z",
          "iopub.execute_input": "2023-02-15T11:31:46.913736Z",
          "iopub.status.idle": "2023-02-15T11:31:46.920417Z",
          "shell.execute_reply.started": "2023-02-15T11:31:46.913704Z",
          "shell.execute_reply": "2023-02-15T11:31:46.919152Z"
        },
        "trusted": true,
        "id": "IQlQLYNB5l0J"
      },
      "outputs": [],
      "execution_count": null
    },
    {
      "cell_type": "code",
      "source": [
        "# Approximate derivative using finite differences\n",
        "dfFD = np.zeros(len(df), dtype='complex_')\n",
        "for kappa in range(len(df) - 1):\n",
        "    dfFD[kappa] = (f[kappa+1] - f[kappa]) / dx\n",
        "\n",
        "dfFD[-1] = dfFD[-2]"
      ],
      "metadata": {
        "execution": {
          "iopub.status.busy": "2023-02-15T11:31:46.921552Z",
          "iopub.execute_input": "2023-02-15T11:31:46.92238Z",
          "iopub.status.idle": "2023-02-15T11:31:46.931522Z",
          "shell.execute_reply.started": "2023-02-15T11:31:46.922343Z",
          "shell.execute_reply": "2023-02-15T11:31:46.930655Z"
        },
        "trusted": true,
        "id": "yywtlmW-5l0J"
      },
      "outputs": [],
      "execution_count": null
    },
    {
      "cell_type": "code",
      "source": [
        "# Derivative using FFT (spectral derivative)\n",
        "fhat = np.fft.fft(f)\n",
        "kappa = (2 * np.pi / L) * np.arange(-n/2, n/2)\n",
        "kappa = np.fft.fftshift(kappa) # Re-order fft frequencies\n",
        "dfhat = kappa * fhat * (1j)\n",
        "dfFFT = np.real(np.fft.ifft(dfhat))"
      ],
      "metadata": {
        "execution": {
          "iopub.status.busy": "2023-02-15T11:31:46.932606Z",
          "iopub.execute_input": "2023-02-15T11:31:46.933146Z",
          "iopub.status.idle": "2023-02-15T11:31:46.941872Z",
          "shell.execute_reply.started": "2023-02-15T11:31:46.933111Z",
          "shell.execute_reply": "2023-02-15T11:31:46.940952Z"
        },
        "trusted": true,
        "id": "nIbZKCre5l0J"
      },
      "outputs": [],
      "execution_count": null
    },
    {
      "cell_type": "code",
      "source": [
        "# plt.rcParams['figure.figsize'] = [12,6]\n",
        "plt.plot(x, df.real, color='k', linewidth=2, label='True Derivative')\n",
        "plt.plot(x, dfFD.real, '--', color='b', linewidth=0.5, label='Finite Diff.')\n",
        "plt.plot(x, dfFFT.real, '--', color='r', linewidth=0.5, label='FFT Derivative')\n",
        "plt.legend()"
      ],
      "metadata": {
        "execution": {
          "iopub.status.busy": "2023-02-15T11:31:46.943286Z",
          "iopub.execute_input": "2023-02-15T11:31:46.943891Z",
          "iopub.status.idle": "2023-02-15T11:31:47.232251Z",
          "shell.execute_reply.started": "2023-02-15T11:31:46.943858Z",
          "shell.execute_reply": "2023-02-15T11:31:47.2313Z"
        },
        "trusted": true,
        "id": "0OVhwepP5l0J"
      },
      "outputs": [],
      "execution_count": null
    },
    {
      "cell_type": "markdown",
      "source": [
        "# Spectrogram (Gabor Transform)\n",
        "\n",
        "- A spectrogram is like a photograph or image of a signal\n",
        "- A spectrogram plot time in Y-axis and frequencies in X-axis.\n",
        "- A spectrogram also conveys the signal strength using the colors - brighter the color the higher the energy of the signal.\n",
        "- A spectrogram explains how the signal strength is distributed in every frequency found in the signal.\n",
        "\n",
        "---\n",
        "Measuring the frequency and amplitude of the signals can be considered the main motive of the spectrogram. For visualising signals into an image, we use a spectrogram that plots the time in the x-axis and frequency in the y-axis and, for more detailed information, amplitude in the z-axis. Also, it can be on different colors where the density of colors can be considered the signal's strength. Finally, it gives you an overview of the signal where it explains how the strength of the signal is distributed in different frequencies.\n",
        "\n",
        "So the amplitude and the frequency of the signal are the two main components of any spectrogram.\n",
        "\n",
        "- Frequency: Mathematically, frequency is the number of waves passing through a fixed point in a single time unit or the number of cycles performed by a body in a single time when it is in a periodic motion.\n",
        "\n",
        "- Amplitude: Amplitude can be defined as the greatest distance travelled by a moving body in a periodic motion in a single time unit or the highest distance of the wave on dips down or rising from its flat surface.\n",
        "\n",
        "![image-293.png](attachment:ed058a90-b382-4c76-a1c4-7c64a7579138.png)\n",
        "\n",
        "[source](https://lightcat-files.s3.amazonaws.com/problem_images/af49016fd63588d9-1593714092882.jpg)\n",
        "\n",
        "The mathematics behind the spectrogram is based on the Gabor transform. We use the Gabor transform to compute the spectrogram. Gabor transform is the special case of the short-time Fourier transform used to extract the sinusoidal frequency and phase content of a signal in its particular section."
      ],
      "metadata": {
        "id": "Dyk4ZI125l0J"
      }
    },
    {
      "cell_type": "code",
      "source": [
        "dt = 0.001\n",
        "t = np.arange(0, 2, dt)\n",
        "f0 = 50\n",
        "f1 = 250\n",
        "t1 = 2\n",
        "x = np.cos(2 * np.pi * t * (f1 - f0) * np.power(t, 2) / (3 * t1 ** 2))\n",
        "\n",
        "fs = 1 / dt\n",
        "\n",
        "# plt.rcParams['figure.figsize'] = [8,6]\n",
        "plt.figure(figsize=(8, 8))\n",
        "\n",
        "plt.subplot(2, 2, 1)\n",
        "plt.specgram(x, NFFT=128, Fs=1/dt, noverlap=120, cmap='jet_r')\n",
        "plt.xlabel('Time')\n",
        "plt.ylabel('Frequency')\n",
        "plt.colorbar()"
      ],
      "metadata": {
        "execution": {
          "iopub.status.busy": "2023-02-15T11:31:47.233383Z",
          "iopub.execute_input": "2023-02-15T11:31:47.23436Z",
          "iopub.status.idle": "2023-02-15T11:31:47.555603Z",
          "shell.execute_reply.started": "2023-02-15T11:31:47.234323Z",
          "shell.execute_reply": "2023-02-15T11:31:47.554427Z"
        },
        "trusted": true,
        "id": "JSpfIexk5l0J"
      },
      "outputs": [],
      "execution_count": null
    },
    {
      "cell_type": "code",
      "source": [],
      "metadata": {
        "id": "YqBFayzv5l0J"
      },
      "outputs": [],
      "execution_count": null
    },
    {
      "cell_type": "markdown",
      "source": [
        "# Image Compression with Wavelets"
      ],
      "metadata": {
        "id": "e2f8oqiP5l0J"
      }
    },
    {
      "cell_type": "code",
      "source": [
        "# length = min(10 * width[ii], len(data))\n",
        "# cwt[ii,:] = signal.convolve(data, np.conj(wavelet(length, width[ii],\n",
        "#                                 **kwargs))[::-1], mode='same')"
      ],
      "metadata": {
        "execution": {
          "iopub.status.busy": "2023-02-15T11:31:47.557269Z",
          "iopub.execute_input": "2023-02-15T11:31:47.557917Z",
          "iopub.status.idle": "2023-02-15T11:31:47.562134Z",
          "shell.execute_reply.started": "2023-02-15T11:31:47.557879Z",
          "shell.execute_reply": "2023-02-15T11:31:47.561191Z"
        },
        "trusted": true,
        "id": "MPRpti-o5l0J"
      },
      "outputs": [],
      "execution_count": null
    },
    {
      "cell_type": "code",
      "source": [
        "import numpy as np\n",
        "from scipy import signal\n",
        "import matplotlib.pyplot as plt\n",
        "\n",
        "\n",
        "t = np.linspace(-1, 1, 200, endpoint=False)\n",
        "sig  = np.cos(2 * np.pi * 7 * t) + signal.gausspulse(t - 0.4, fc=2)\n",
        "widths = np.arange(1, 31)\n",
        "cwtmatr = signal.cwt(sig, signal.ricker, widths)\n",
        "plt.imshow(cwtmatr, extent=[-1, 1, 1, 31], cmap='PRGn', aspect='auto',\n",
        "           vmax=abs(cwtmatr).max(), vmin=-abs(cwtmatr).max())\n",
        "plt.show()"
      ],
      "metadata": {
        "execution": {
          "iopub.status.busy": "2023-02-15T11:31:47.563412Z",
          "iopub.execute_input": "2023-02-15T11:31:47.564621Z",
          "iopub.status.idle": "2023-02-15T11:31:47.826835Z",
          "shell.execute_reply.started": "2023-02-15T11:31:47.564582Z",
          "shell.execute_reply": "2023-02-15T11:31:47.825399Z"
        },
        "trusted": true,
        "id": "cO0QuFNp5l0J"
      },
      "outputs": [],
      "execution_count": null
    },
    {
      "cell_type": "markdown",
      "source": [
        "## References:\n",
        "- [Frequency Domain - DeepAI](https://deepai.org/machine-learning-glossary-and-terms/frequency-domain)\n",
        "\n",
        "- [Fourier Transforms With scipy.fft: Python Signal Processing](https://realpython.com/python-scipy-fft/)\n",
        "\n",
        "- [Signal denoising using Fourier Analysis in Python (codes included)](https://www.earthinversion.com/techniques/signal-denoising-using-fast-fourier-transform/)\n",
        "\n",
        "- [Hands-On Tutorial on Visualizing Spectrograms in Python](https://analyticsindiamag.com/hands-on-tutorial-on-visualizing-spectrograms-in-python/)"
      ],
      "metadata": {
        "id": "CB-JASA45l0J"
      }
    },
    {
      "cell_type": "markdown",
      "source": [],
      "metadata": {
        "id": "8KUMZBZb5l0J"
      }
    },
    {
      "cell_type": "code",
      "source": [
        "import tensorflow as tf\n",
        "import timeit\n",
        "\n",
        "print(\"seconds (lower is better):\")\n",
        "print(f\"Tensorflow {tf.__version__}\", timeit.timeit('X = tf.signal.rfft(x)', setup='import tensorflow as tf; x = tf.random.normal([50000, 512])', number=10))\n",
        "print(\"Numpy: \", timeit.timeit('X = numpy.fft.rfft(x)', setup='import numpy.fft; import tensorflow as tf; x = tf.random.normal([50000, 512])', number=10))\n",
        "print(\"Jax: \", timeit.timeit('jnp.fft.rfft(x).block_until_ready()', setup='import jax.numpy as jnp; import tensorflow as tf; x = tf.random.normal([50000, 512]).numpy()', number=10))\n",
        "print(\"Scipy: \", timeit.timeit('scipy.fft.rfft(x)', setup='import scipy; import tensorflow as tf; x = tf.random.normal([50000, 512]).numpy()', number=10))\n",
        "print(\"Scipy (parallelization): \", timeit.timeit('scipy.fft.rfft(x, workers=-1)', setup='import scipy; import tensorflow as tf; x = tf.random.normal([50000, 512]).numpy()', number=10))\n"
      ],
      "metadata": {
        "execution": {
          "iopub.status.busy": "2023-02-15T11:31:47.828134Z",
          "iopub.execute_input": "2023-02-15T11:31:47.828452Z",
          "iopub.status.idle": "2023-02-15T11:32:10.54705Z",
          "shell.execute_reply.started": "2023-02-15T11:31:47.828422Z",
          "shell.execute_reply": "2023-02-15T11:32:10.546024Z"
        },
        "trusted": true,
        "id": "ya2zmKYl5l0J"
      },
      "outputs": [],
      "execution_count": null
    },
    {
      "cell_type": "markdown",
      "source": [
        "# Wavelet Transform Analysis of 1-D Signals\n",
        "\n",
        "- Single Level Discrete Wavelet Transform and Inverse Transform"
      ],
      "metadata": {
        "id": "0BdyKBNj5l0J"
      }
    },
    {
      "cell_type": "code",
      "source": [
        "import pywt\n",
        "\n",
        "x = [3, 7, 1, 1, -2, 5, 4, 6] # Signal\n",
        "cA, cD = pywt.dwt(x, 'haar') # Wavelet Transform\n",
        "\n",
        "y = pywt.idwt(cA, cD, 'haar') # Inverse Wavelet Transform\n",
        "\n",
        "print(cA) # Printing Approximation Coeffs.\n",
        "print(cD) # Printing Detailed Coeff.\n",
        "print(y)  # Printing Reconstructed Signal."
      ],
      "metadata": {
        "execution": {
          "iopub.status.busy": "2023-02-15T11:32:10.548323Z",
          "iopub.execute_input": "2023-02-15T11:32:10.548969Z",
          "iopub.status.idle": "2023-02-15T11:32:10.600825Z",
          "shell.execute_reply.started": "2023-02-15T11:32:10.548931Z",
          "shell.execute_reply": "2023-02-15T11:32:10.599495Z"
        },
        "trusted": true,
        "id": "kRPWacPk5l0J"
      },
      "outputs": [],
      "execution_count": null
    },
    {
      "cell_type": "code",
      "source": [
        "# Example Code for wavedec() and waverec()\n",
        "# Multi-Level Discrete Wavelet Transform and Inverse Transform\n",
        "\n",
        "x = [3, 7, 1, 1, -2, 5, 4, 6, 6, 4, 5, -2, 1, 1, 7, 3] # Signal\n",
        "\n",
        "coeffs = pywt.wavedec(x, 'db1', level=2, mode='periodic') # DWT\n",
        "cA2, cD2, cD1 = coeffs\n",
        "\n",
        "y = pywt.waverec(coeffs, 'db1', mode='periodic') # IDWT\n",
        "\n",
        "print(f\"cA2 = {cA2}\")\n",
        "print(f\"cD2 = {cD2}\")\n",
        "print(f\"cD1 = {cD1}\")\n",
        "print(f\"Reconstructed Signal = {y}\")"
      ],
      "metadata": {
        "execution": {
          "iopub.status.busy": "2023-02-15T11:32:10.602437Z",
          "iopub.execute_input": "2023-02-15T11:32:10.603531Z",
          "iopub.status.idle": "2023-02-15T11:32:10.614372Z",
          "shell.execute_reply.started": "2023-02-15T11:32:10.603488Z",
          "shell.execute_reply": "2023-02-15T11:32:10.612979Z"
        },
        "trusted": true,
        "id": "aexX_3X45l0K"
      },
      "outputs": [],
      "execution_count": null
    },
    {
      "cell_type": "code",
      "source": [
        "cA"
      ],
      "metadata": {
        "execution": {
          "iopub.status.busy": "2023-02-15T11:32:10.616133Z",
          "iopub.execute_input": "2023-02-15T11:32:10.616597Z",
          "iopub.status.idle": "2023-02-15T11:32:10.625304Z",
          "shell.execute_reply.started": "2023-02-15T11:32:10.616548Z",
          "shell.execute_reply": "2023-02-15T11:32:10.623908Z"
        },
        "trusted": true,
        "id": "i7ovU1sY5l0K"
      },
      "outputs": [],
      "execution_count": null
    },
    {
      "cell_type": "code",
      "source": [
        "y"
      ],
      "metadata": {
        "execution": {
          "iopub.status.busy": "2023-02-15T11:32:10.626717Z",
          "iopub.execute_input": "2023-02-15T11:32:10.627972Z",
          "iopub.status.idle": "2023-02-15T11:32:10.638866Z",
          "shell.execute_reply.started": "2023-02-15T11:32:10.62793Z",
          "shell.execute_reply": "2023-02-15T11:32:10.637385Z"
        },
        "trusted": true,
        "id": "EiFnyfBP5l0K"
      },
      "outputs": [],
      "execution_count": null
    }
  ]
}